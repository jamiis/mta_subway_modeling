{
 "cells": [
  {
   "cell_type": "markdown",
   "metadata": {},
   "source": [
    "# Notebook is connected to c3.8xlarge AWS instance"
   ]
  },
  {
   "cell_type": "code",
   "execution_count": 1,
   "metadata": {
    "collapsed": false
   },
   "outputs": [
    {
     "name": "stdout",
     "output_type": "stream",
     "text": [
      "             total       used       free     shared    buffers     cached\r\n",
      "Mem:            58         20         37          0          0         19\r\n",
      "-/+ buffers/cache:          1         57\r\n",
      "Swap:            0          0          0\r\n"
     ]
    }
   ],
   "source": [
    "# free memory in GiB\n",
    "!free -g"
   ]
  },
  {
   "cell_type": "code",
   "execution_count": 2,
   "metadata": {
    "collapsed": false
   },
   "outputs": [
    {
     "name": "stdout",
     "output_type": "stream",
     "text": [
      "32\r\n"
     ]
    }
   ],
   "source": [
    "# number of processors\n",
    "!cat /proc/cpuinfo | grep processor| wc -l"
   ]
  },
  {
   "cell_type": "code",
   "execution_count": 3,
   "metadata": {
    "collapsed": false,
    "scrolled": true
   },
   "outputs": [
    {
     "name": "stdout",
     "output_type": "stream",
     "text": [
      "Filesystem      Size  Used Avail Use% Mounted on\r\n",
      "/dev/xvda1       99G   22G   73G  24% /\r\n"
     ]
    }
   ],
   "source": [
    "# check size of disk\n",
    "!df -h | head -n 2"
   ]
  },
  {
   "cell_type": "code",
   "execution_count": null,
   "metadata": {
    "collapsed": true
   },
   "outputs": [],
   "source": [
    "# this script takes around an hour to download all data. should be augmented to be async in the future\n",
    "# NOTE: not going to re-run since I have the data\n",
    "!mkdir data\n",
    "!mkdir info\n",
    "\n",
    "!wget --accept txt,xls \\\n",
    "     --mirror \\\n",
    "     --progress=dot \\\n",
    "     --adjust-extension \\\n",
    "     --convert-links \\\n",
    "     --backup-converted \\\n",
    "     --no-parent \\\n",
    "     http://web.mta.info/developers/turnstile.html\n",
    "\n",
    "!mv web.mta.info/developers/data/nyct/turnstile/* data\n",
    "!mv web.mta.info/developers/resources/nyct/turnstile/* info\n",
    "!rm -rf web.mta.info\n",
    "\n",
    "# make sure you sudo apt-get install catdoc\n",
    "!xls2csv info/Remote-Booth-Station.xls > info/Remote-Booth-Station.csv"
   ]
  },
  {
   "cell_type": "markdown",
   "metadata": {},
   "source": [
    "# Format Old and New Data Into Common Format"
   ]
  },
  {
   "cell_type": "markdown",
   "metadata": {},
   "source": [
    "### Create function for helping us lookup missing stations in pre-oct-2014 datasets"
   ]
  },
  {
   "cell_type": "code",
   "execution_count": 1,
   "metadata": {
    "collapsed": false
   },
   "outputs": [],
   "source": [
    "from __future__ import print_function\n",
    "import pandas as pd\n",
    "import numpy as np\n",
    "\n",
    "# create station-information lookup dict based on C/A and Unit\n",
    "cols_stations = ['UNIT','CA', 'STATION', 'LINENAME', 'DIVISION']\n",
    "df_stations_lookup = pd.read_csv(\"info/Remote-Booth-Station.csv\", header=None, names=cols_stations)\n",
    "\n",
    "keys = df_stations_lookup.CA + df_stations_lookup.UNIT\n",
    "values = df_stations_lookup.loc[:,['STATION','LINENAME','DIVISION']].to_dict('records')\n",
    "\n",
    "station_lookup = dict(zip(keys,values))\n",
    "# example: 'B010R412': {'DIVISION': 'BMT','LINENAME': 'S2345','STATION': 'BOTANIC GARDEN'}\n",
    "\n",
    "def lookup(key, col):\n",
    "    '''lookup function to use with pandas to which you can partially apply which key you'd like to lookup'''\n",
    "    try:\n",
    "        return station_lookup[key][col]\n",
    "    except KeyError as err:\n",
    "        return np.nan"
   ]
  },
  {
   "cell_type": "markdown",
   "metadata": {},
   "source": [
    "### Define some column vars to help us with data munging"
   ]
  },
  {
   "cell_type": "code",
   "execution_count": 2,
   "metadata": {
    "collapsed": true
   },
   "outputs": [],
   "source": [
    "cols_old = [\n",
    "    'CA','UNIT','SCP',\n",
    "    'DATE1','TIME1','DESC1','ENTRIES1','EXITS1',\n",
    "    'DATE2','TIME2','DESC2','ENTRIES2','EXITS2',\n",
    "    'DATE3','TIME3','DESC3','ENTRIES3','EXITS3',\n",
    "    'DATE4','TIME4','DESC4','ENTRIES4','EXITS4',\n",
    "    'DATE5','TIME5','DESC5','ENTRIES5','EXITS5',\n",
    "    'DATE6','TIME6','DESC6','ENTRIES6','EXITS6',\n",
    "    'DATE7','TIME7','DESC7','ENTRIES7','EXITS7',\n",
    "    'DATE8','TIME8','DESC8','ENTRIES8','EXITS8']\n",
    "cols_new = [\n",
    "    'CA','UNIT','SCP', 'STATION','LINENAME','DIVISION',\n",
    "    'DATE','TIME','DESC','ENTRIES','EXITS']\n",
    "cols_final = cols_new + ['DATETIME']"
   ]
  },
  {
   "cell_type": "markdown",
   "metadata": {},
   "source": [
    "### New turnstile files don't need much re-formatting but we do want to add a DATETIME column"
   ]
  },
  {
   "cell_type": "code",
   "execution_count": 3,
   "metadata": {
    "collapsed": true
   },
   "outputs": [],
   "source": [
    "def read_new(filename):\n",
    "    '''read new-MTA-format file into pandas.dataframe'''\n",
    "    df = pd.read_csv(filename, header=1, names=cols_new)\n",
    "    # parse date and time into DAY and DATETIME\n",
    "    datetime = df.DATE + ' ' + df.TIME\n",
    "    df['DATETIME'] = pd.to_datetime(datetime, format='%m/%d/%Y %H:%M:%S')\n",
    "    return df"
   ]
  },
  {
   "cell_type": "markdown",
   "metadata": {},
   "source": [
    "### Old turnstile data files however have a much different format and pack multiple datapoints on individual lines that need to be broken up to one datapoint per line"
   ]
  },
  {
   "cell_type": "code",
   "execution_count": 4,
   "metadata": {
    "collapsed": true
   },
   "outputs": [],
   "source": [
    "def read_old(filename):\n",
    "    '''read old-MTA-format file into pandas.dataframe. returns dataframe in new-MTA-format'''\n",
    "    # use old column names defined in ts_Field_Description_pre-10-18-2014.txt\n",
    "    df_old = pd.read_csv(filename, header=None, names=cols_old)\n",
    "\n",
    "    # add missing station-information columns\n",
    "    station_lookup_keys = df_old.CA + df_old.UNIT\n",
    "    df_old['STATION']  = station_lookup_keys.apply(lookup, col='STATION')\n",
    "    df_old['LINENAME'] = station_lookup_keys.apply(lookup, col='LINENAME')\n",
    "    df_old['DIVISION'] = station_lookup_keys.apply(lookup, col='DIVISION')\n",
    "\n",
    "    def extract_column_range(i):\n",
    "        '''not every row has all columns filled so this function pulls out \n",
    "        those rows who are not null for col 'i', and pre-pends CA,UNIT,SCP'''\n",
    "        c = str(i)\n",
    "        cols_select = ['CA','UNIT','SCP','STATION','LINENAME','DIVISION',\n",
    "            'DATE'+c,'TIME'+c,'DESC'+c,'ENTRIES'+c,'EXITS'+c]\n",
    "        df_notnull = df_old[df_old['DATE'+c].notnull()].loc[:,cols_select]\n",
    "        # re-name columns to new-MTA-format\n",
    "        df_notnull.columns = cols_new\n",
    "        return df_notnull\n",
    "\n",
    "    # restructure old format data to have one data point per row\n",
    "    df_restructured = pd.concat(extract_column_range(i) for i in range(1,9)) \n",
    "\n",
    "    # make DATETIME column from date and time columns \n",
    "    datetime = df_restructured.DATE + ' ' + df_restructured.TIME\n",
    "    df_restructured['DATETIME'] = pd.to_datetime(datetime, format='%m-%d-%y %H:%M:%S', errors='coerce')\n",
    "\n",
    "    # reorder columns to final output format\n",
    "    df_restructured = df_restructured.loc[:,cols_final]\n",
    "    return df_restructured"
   ]
  },
  {
   "cell_type": "markdown",
   "metadata": {},
   "source": [
    "### Load and reformat raw turnstile data, old and new, and save the reformatted dataframes out to disk\n",
    "### Note: saving common-format dataframes to disk allows us to skip this costly step in the future if we mess up"
   ]
  },
  {
   "cell_type": "code",
   "execution_count": 5,
   "metadata": {
    "collapsed": false
   },
   "outputs": [],
   "source": [
    "import os, glob\n",
    "\n",
    "def save_df(df, filename, directory):\n",
    "    '''save dataframe as pickled obj to a directory'''\n",
    "    # make dir if it doesn't exist\n",
    "    if not os.path.exists(directory):\n",
    "        os.makedirs(directory)\n",
    "    # construct the output filename\n",
    "    basename = os.path.basename(filename)\n",
    "    outname = os.path.join(directory, basename)\n",
    "    # save pickled dataframe\n",
    "    df.to_pickle(outname)\n",
    "     \n",
    "def is_old_format(filename):\n",
    "    return os.path.basename(filename) < 'turnstile_141018.txt'\n",
    "\n",
    "def reformat_and_save(f):\n",
    "    '''Read in and reformat raw data. save common-format dataframes to reformatted directory'''\n",
    "    # print('old' if is_old_format(f) else 'new', f)\n",
    "    df = read_old(f) if is_old_format(f) else read_new(f)\n",
    "    save_df(df, f, 'reformatted')"
   ]
  },
  {
   "cell_type": "code",
   "execution_count": null,
   "metadata": {
    "collapsed": true
   },
   "outputs": [],
   "source": [
    "# grab all raw turnstile files from data/\n",
    "turnstile_files = glob.glob(os.path.join('data', '*.txt'))\n",
    "\n",
    "# take advantage of all cores re-formatting turnstile files\n",
    "import multiprocessing\n",
    "cores = multiprocessing.cpu_count()\n",
    "pool = multiprocessing.Pool(cores)\n",
    "\n",
    "# in parallel, reformat and save intermediate-format turnstile files\n",
    "# we can ignore the DTypeWarnings\n",
    "pool.map(reformat_and_save, turnstile_files)\n",
    "pool.close()\n",
    "pool.join()"
   ]
  },
  {
   "cell_type": "markdown",
   "metadata": {},
   "source": [
    "# Augment the formatted data with information that will make analysis and modeling easier"
   ]
  },
  {
   "cell_type": "code",
   "execution_count": 6,
   "metadata": {
    "collapsed": true
   },
   "outputs": [],
   "source": [
    "import glob, os\n",
    "\n",
    "# read all common-format data in one dataframe \n",
    "reformatted_files = glob.glob(os.path.join('reformatted', '*.txt'))"
   ]
  },
  {
   "cell_type": "code",
   "execution_count": 7,
   "metadata": {
    "collapsed": false
   },
   "outputs": [],
   "source": [
    "df = pd.concat(pd.read_pickle(f) for f in reformatted_files)"
   ]
  },
  {
   "cell_type": "markdown",
   "metadata": {},
   "source": [
    "### Cast from object type to numeric"
   ]
  },
  {
   "cell_type": "code",
   "execution_count": 8,
   "metadata": {
    "collapsed": false
   },
   "outputs": [
    {
     "data": {
      "text/plain": [
       "CA                  object\n",
       "UNIT                object\n",
       "SCP                 object\n",
       "STATION             object\n",
       "LINENAME            object\n",
       "DIVISION            object\n",
       "DATE                object\n",
       "TIME                object\n",
       "DESC                object\n",
       "ENTRIES            float64\n",
       "EXITS              float64\n",
       "DATETIME    datetime64[ns]\n",
       "dtype: object"
      ]
     },
     "execution_count": 8,
     "metadata": {},
     "output_type": "execute_result"
    }
   ],
   "source": [
    "df['EXITS'] = pd.to_numeric(df.EXITS, errors='coerce')\n",
    "df['ENTRIES'] = pd.to_numeric(df.ENTRIES, errors='coerce')\n",
    "df.dtypes"
   ]
  },
  {
   "cell_type": "markdown",
   "metadata": {},
   "source": [
    "### I discovered through manual inspection that many STATIONS removed the 'E' in 'AVE' after the switch to the new format so let's fix that first"
   ]
  },
  {
   "cell_type": "code",
   "execution_count": 28,
   "metadata": {
    "collapsed": false
   },
   "outputs": [],
   "source": [
    "stations_to_rename = { station: station+'E' for station in [\n",
    "    '1 AV', '18 AV', '2 AV', '20 AV', '25 AV', '3 AV', '57 ST-7 AV', '6 AV',\n",
    "    '67 AV', '7 AV', '75 AV', '8 AV', '9 AV', 'ALABAMA AV', 'ALLERTON AV',\n",
    "    'ATLANTIC AV', 'BAY PKY-22 AV', 'BAY RIDGE AV', 'BAYCHESTER AV', 'BEDFORD AV',\n",
    "    'BEEBE-39 AV', 'BROOK AV', 'BUHRE AV', 'BURKE AV', 'BURNSIDE AV',\n",
    "    'BUSHWICK AV', 'CASTLE HILL AV', 'CENTRAL AV', 'CHURCH AV', 'CLASSON AV',\n",
    "    'CYPRESS AV', 'DEKALB AV', 'DITMAS AV', 'ELDER AV', 'ELMHURST AV',\n",
    "    'EUCLID AV', 'FLUSHING AV', 'FOREST AV', 'FRANKLIN AV', 'GATES AV',\n",
    "    'GRAHAM AV', 'GRANT AV', 'GREENPOINT AV', 'HUNTERS PT AV', 'HUNTS POINT AV',\n",
    "    'JACKSON AV', 'KINGSTON AV', 'LAFAYETTE AV', 'LIBERTY AV', 'LIVONIA AV',\n",
    "    'LONGWOOD AV', 'MARCY AV', 'MONTROSE AV', 'MORGAN AV', 'MT EDEN AV',\n",
    "    'MYRTLE AV', 'NEPTUNE AV', 'NEREID AV', 'NEW LOTS AV', 'NEW UTRECHT AV',\n",
    "    'NEWKIRK AV', 'NORWOOD AV', 'NOSTRAND AV', 'PARKSIDE AV', 'PROSPECT AV',\n",
    "    'RALPH AV', 'ROCKAWAY AV', 'SARATOGA AV', 'SHEPHERD AV', 'ST LAWRENCE AV',\n",
    "    'SUTTER AV', 'TREMONT AV', 'UTICA AV', 'VAN SICLEN AV', 'WHITLOCK AV',\n",
    "    'WILSON AV', 'ZEREGA AV'\n",
    "]}"
   ]
  },
  {
   "cell_type": "markdown",
   "metadata": {},
   "source": [
    "### There were other columns that give me grief as well that I found by rigorously digging through the data. The STATION name change happened Dec 26, 2015"
   ]
  },
  {
   "cell_type": "code",
   "execution_count": 30,
   "metadata": {
    "collapsed": false
   },
   "outputs": [],
   "source": [
    "stations_to_rename.update({\n",
    "    'AVENUE H': 'AVE H',\n",
    "    'AVE J': 'AVENUE J',\n",
    "    'AVE M': 'AVENUE M',\n",
    "    'AVE N': 'AVENUE N',\n",
    "    'AVE P': 'AVENUE P',\n",
    "    'AVE U': 'AVENUE U',\n",
    "    'AVE X': 'AVENUE X',\n",
    "    'AVENUE I': 'AVE I',\n",
    "    'AQUEDUCT N.COND': 'AQUEDUCT-N CNDT',\n",
    "    '137 ST CITY COL': '137 ST-CITY COL',\n",
    "    'ASTOR PL': 'ASTOR PLACE',\n",
    "    '52 ST': '52 ST-LINCOLN',\n",
    "    'PELHAM PARKWAY': 'PELHAM PKWY',\n",
    "    'NORWOOD 205 ST': 'NORWOOD-205 ST',\n",
    "    'GRD CNTRL-42 ST': '42 ST-GRD CNTRL',\n",
    "    'WAKEFIELD-241': 'WAKEFIELD/241',\n",
    "    'INTERVALE AV': 'INTERVALE-163',\n",
    "    'HOWARD BCH JFK': 'HOWARD BCH-JFK',\n",
    "    'WHITEHALL S-FRY': 'WHITEHALL ST',\n",
    "    'GUN HILL RD': 'GUN HILL ROAD',\n",
    "    '68ST-HUNTER CO': '68ST-HUNTER COL',\n",
    "    'DELANCEY ST': 'DELANCEY/ESSEX',\n",
    "    'DYCKMAN ST': 'DYCKMAN-200 ST',\n",
    "    'E 143 ST': \"E 143/ST MARY'S\",\n",
    "    'FRESH POND RD': 'FRESH POND ROAD',\n",
    "    'FOREST HILLS 71': 'FOREST HILLS-71',\n",
    "    'DYRE AVE': 'EASTCHSTER/DYRE',\n",
    "    '69 ST': '69 ST-FISK AVE',\n",
    "    'FLATBUSH AV-B.C': 'FLATBUSH AVE',\n",
    "    '138 ST-3 AVE': '3 AV 138 ST',\n",
    "    'NEW LOTS': 'NEW LOTS AVE',\n",
    "    '21 ST': '21 ST-QNSBRIDGE',\n",
    "    'JAMAICA 179 ST': 'JAMAICA-179 ST',\n",
    "    'JAMAICA VAN WK': 'JAMAICA-VAN WYC',\n",
    "    'BEDFORD PARK BL': 'BEDFORD PK BLVD',\n",
    "    '80 ST': 'HUDSON-80 ST',\n",
    "    'MOSHOLU PARKWAY': 'MOSHOLU PKWY',\n",
    "    '61 ST WOODSIDE': '61 ST/WOODSIDE',\n",
    "    'MIDDLETOWN RD': 'MIDDLETOWN ROAD',\n",
    "    '88 ST': 'BOYD-88 ST',\n",
    "    '5 AV/53 ST': '5 AVE-53 ST',\n",
    "    '5 AVE-59 ST': '5 AV/59 ST',\n",
    "    '40 ST LOWERY ST': '40 ST-LOWERY ST',\n",
    "    '46 ST BLISS ST': '46 ST-BLISS ST',\n",
    "    'GRD CNTRL-42 ST': '42 ST-GRD CNTRL',\n",
    "    '5 AVE-BRYANT PK': '42 ST-BRYANT PK',\n",
    "    '5 AVE': '42 ST-BRYANT PK',\n",
    "    'SUTTER AV-RUTLD': 'SUTTER AVE',\n",
    "    'WOODLAWN': 'WOODLAWN ROAD',\n",
    "    '42 ST-TIMES SQ': 'TIMES SQ-42 ST',\n",
    "    '42 ST-PA BUS TE': '42 ST-PORT AUTH',\n",
    "    '59 ST COLUMBUS': '59 ST-COLUMBUS',\n",
    "    'FOREST HILLS 71': 'FOREST HILLS-71',\n",
    "    'FOREST PARKWAY': '85 ST-FOREST PK',\n",
    "    '69 ST': '69 ST-FISK AVE',\n",
    "    'VERNON-JACKSON': 'VERNON/JACKSON',\n",
    "    'ROOSEVELT IS': 'ROOSEVELT ISLND',\n",
    "    '149 ST-GR CONC': '149/GRAND CONC',\n",
    "    '138 ST-GR CONC': '138/GRAND CONC',\n",
    "    'ESSEX ST': 'DELANCEY/ESSEX',\n",
    "    'JFK HOWARD BCH': 'HOWARD BCH-JFK',\n",
    "    'ROOSEVELT AVE': 'JKSN HT-ROOSVLT',\n",
    "    'MYRTLE AVE': 'MYRTLE-WYCKOFF',\n",
    "    'LEXINGTON AV/63': 'LEXINGTON AVE',\n",
    "    'LEXINGTON AV/53': 'LEXINGTON-53 ST',\n",
    "    '182-183 ST': '182-183 STS',\n",
    "    'KINGS HIGHWAY': 'KINGS HWY',\n",
    "    '49 ST': '49 ST-7 AVE',\n",
    "    '4AV-9 ST': '4 AV-9 ST',\n",
    "    '4 AVE': '4 AV-9 ST',\n",
    "    'BROADWAY/LAFAY': \"B'WAY-LAFAYETTE\",\n",
    "    'BEEBE-39 AVE': '39 AV',\n",
    "    'CORTELYOU RD': 'CORTELYOU ROAD',\n",
    "    '23 ST': '23 ST-5 AVE',\n",
    "    '148 ST-LENOX': 'HARLEM 148 ST',\n",
    "    'GRAND-NEWTOWN': 'GRAND AV-NEWTON',\n",
    "    '28 ST': '28 ST-BROADWAY',\n",
    "    '33 ST-RAWSON ST': '33 ST/RAWSON ST',\n",
    "    'FORDHAM RD': 'FORDHAM ROAD',\n",
    "    'FLUSHING AVE': 'FLUSHING-MAIN',\n",
    "    'EASTERN PKWY': 'EASTN PKWY-MUSM',\n",
    "    'HOYT ST': 'HOYT ST-ASTORIA',\n",
    "    'HOYT-SCHER': 'HOYT/SCHERMER',\n",
    "    'BOROUGH HALL': 'BOROUGH HALL/CT',\n",
    "    'PRINCE ST': \"PRINCE ST-B'WAY\",\n",
    "    'OCEAN PARKWAY': 'OCEAN PKWY',\n",
    "    '168 ST': '168 ST-BROADWAY',\n",
    "    'NECK RD': 'NECK ROAD',\n",
    "    '30 AV': 'GRAND-30 AVE',\n",
    "    'BEDFORD/NOSTRAN': 'BEDFORD-NOSTRAN',\n",
    "    '47-50 ST-ROCK': '47-50 STS ROCK',\n",
    "    'BEVERLY RD': 'BEVERLY ROAD',\n",
    "    '174-175 ST': '174-175 STS',\n",
    "    'NASSAU AV': 'NASSAU ST',\n",
    "    '161/YANKEE STAD': '161 ST-YANKEE',\n",
    "})"
   ]
  },
  {
   "cell_type": "code",
   "execution_count": 33,
   "metadata": {
    "collapsed": false
   },
   "outputs": [],
   "source": [
    "df = df.replace({ 'STATION' : stations_to_rename })"
   ]
  },
  {
   "cell_type": "markdown",
   "metadata": {},
   "source": [
    "### This manual process was not easy, with zero resources online so, unfortunately, I'm bound to miss a couple and have chosen to remove those data as I can't trust it. If I had more time I would ensure all new stations names were accounted for"
   ]
  },
  {
   "cell_type": "code",
   "execution_count": 12,
   "metadata": {
    "collapsed": false
   },
   "outputs": [],
   "source": [
    "from datetime import datetime\n",
    "firsts = df.groupby('STATION').first()\n",
    "remove = firsts[firsts.DATETIME > datetime(2015,12,1)]\n",
    "df = df[~df.STATION.isin(remove.index)]"
   ]
  },
  {
   "cell_type": "markdown",
   "metadata": {},
   "source": [
    "### Begin augmenting the data with features that will be useful."
   ]
  },
  {
   "cell_type": "code",
   "execution_count": 13,
   "metadata": {
    "collapsed": false
   },
   "outputs": [],
   "source": [
    "# TURNSTILE will make life easier\n",
    "df['TURNSTILE'] = df['CA'] + '-' + df['UNIT'] + '-' + df['SCP']\n",
    "\n",
    "# sort values by Station then Turnstile and last by Datetime and reset the indices\n",
    "df = df.sort_values(['STATION','TURNSTILE','DATETIME']).reset_index()"
   ]
  },
  {
   "cell_type": "markdown",
   "metadata": {},
   "source": [
    "### Calculate \"per interval\" quantities off of entries and exits odometer readings"
   ]
  },
  {
   "cell_type": "code",
   "execution_count": 14,
   "metadata": {
    "collapsed": false
   },
   "outputs": [],
   "source": [
    "# calculate ENTRIES_PER_INTERVAL and EXITS_PER_INTERVAL\n",
    "# basically, don't depend on odometer reading which is very nice\n",
    "def subtract_prev(rows):\n",
    "    if len(rows) != 2:\n",
    "        return np.nan\n",
    "    prev, curr = rows\n",
    "    # if prev > curr then the odometer has been reset\n",
    "    return curr - prev if prev <= curr else curr\n",
    "subtract_prev_rolling = lambda ser: ser.rolling(window=2).apply(subtract_prev)\n",
    "# use rolling window to calculate per-interval entries and exits\n",
    "df_grouped_turnstile = df.groupby(['TURNSTILE','STATION'])\n",
    "df['EXITS_PER_INTERVAL']   = df_grouped_turnstile['EXITS'].apply(subtract_prev_rolling)\n",
    "df['ENTRIES_PER_INTERVAL'] = df_grouped_turnstile['ENTRIES'].apply(subtract_prev_rolling)"
   ]
  },
  {
   "cell_type": "markdown",
   "metadata": {},
   "source": [
    "### There exist extreme outliers in per_interval data.\n",
    "### Every so often the turnstile counter jumps unrealistic amounts and also rolls backward across intervals.\n",
    "### To remove these dirty data we are going to cap per_interval data but first let's find a suitable cap."
   ]
  },
  {
   "cell_type": "code",
   "execution_count": 16,
   "metadata": {
    "collapsed": true
   },
   "outputs": [
    {
     "name": "stderr",
     "output_type": "stream",
     "text": [
      "/usr/local/lib/python2.7/dist-packages/matplotlib/font_manager.py:273: UserWarning: Matplotlib is building the font cache using fc-list. This may take a moment.\n",
      "  warnings.warn('Matplotlib is building the font cache using fc-list. This may take a moment.')\n"
     ]
    },
    {
     "name": "stdout",
     "output_type": "stream",
     "text": [
      "Populating the interactive namespace from numpy and matplotlib\n"
     ]
    },
    {
     "name": "stderr",
     "output_type": "stream",
     "text": [
      "WARNING: pylab import has clobbered these variables: ['datetime']\n",
      "`%matplotlib` prevents importing * from pylab and numpy\n"
     ]
    }
   ],
   "source": [
    "%pylab inline\n",
    "import matplotlib\n",
    "matplotlib.style.use('ggplot')\n",
    "import matplotlib.pyplot as plt\n",
    "plt.style.use('ggplot')"
   ]
  },
  {
   "cell_type": "code",
   "execution_count": 16,
   "metadata": {
    "collapsed": false
   },
   "outputs": [
    {
     "data": {
      "text/plain": [
       "array([[<matplotlib.axes._subplots.AxesSubplot object at 0x7faf5b90ef50>,\n",
       "        <matplotlib.axes._subplots.AxesSubplot object at 0x7fb09e116a50>]], dtype=object)"
      ]
     },
     "execution_count": 16,
     "metadata": {},
     "output_type": "execute_result"
    },
    {
     "data": {
      "text/plain": [
       "<matplotlib.figure.Figure at 0x7faf5b8fbdd0>"
      ]
     },
     "metadata": {},
     "output_type": "display_data"
    },
    {
     "data": {
      "image/png": "[encoded data removed]",
      "text/plain": [
       "<matplotlib.figure.Figure at 0x7faf5b90e810>"
      ]
     },
     "metadata": {},
     "output_type": "display_data"
    }
   ],
   "source": [
    "plt.figure()\n",
    "samplesize = 1000000 # 1 million\n",
    "histparams = { 'bins':50, 'range':(0,1000), 'figsize':(20, 8) }\n",
    "df_samples = df.sample(n=samplesize).loc[:,['EXITS_PER_INTERVAL','ENTRIES_PER_INTERVAL']]\n",
    "df_samples.hist(**histparams)"
   ]
  },
  {
   "cell_type": "markdown",
   "metadata": {},
   "source": [
    "### To further show this extreme distribution of per_interval data let's plot it using a boxplot with a *log scale x axis*"
   ]
  },
  {
   "cell_type": "code",
   "execution_count": 17,
   "metadata": {
    "collapsed": false
   },
   "outputs": [
    {
     "data": {
      "text/plain": [
       "<matplotlib.axes._subplots.AxesSubplot at 0x7fb0a158ed10>"
      ]
     },
     "execution_count": 17,
     "metadata": {},
     "output_type": "execute_result"
    },
    {
     "data": {
      "text/plain": [
       "<matplotlib.figure.Figure at 0x7faf5b8fba10>"
      ]
     },
     "metadata": {},
     "output_type": "display_data"
    },
    {
     "data": {
      "image/png": "[encoded data removed]",
      "text/plain": [
       "<matplotlib.figure.Figure at 0x7fb0cca7c690>"
      ]
     },
     "metadata": {},
     "output_type": "display_data"
    }
   ],
   "source": [
    "plt.figure()\n",
    "df_samples.plot.box(vert=False, figsize=(20, 8), logx=True)"
   ]
  },
  {
   "cell_type": "markdown",
   "metadata": {},
   "source": [
    "### It's clear per_interval counts drop *very* rapidly and 1000 is clearly a *more than safe* cap choice.\n",
    "### Let's just how much data we're losing from capping."
   ]
  },
  {
   "cell_type": "code",
   "execution_count": 6,
   "metadata": {
    "collapsed": false
   },
   "outputs": [],
   "source": [
    "def perc_of_total_data(df_new,df_old):\n",
    "    '''see how much cleaning a dataset reduced its size'''\n",
    "    return float(df_new.shape[0]) / df_old.shape[0]"
   ]
  },
  {
   "cell_type": "code",
   "execution_count": 19,
   "metadata": {
    "collapsed": false,
    "scrolled": false
   },
   "outputs": [
    {
     "name": "stdout",
     "output_type": "stream",
     "text": [
      "capping ENTRIES_PER_INTERVAL to < 1000, results in removing 1.9% of our data\n",
      "capping EXITS_PER_INTERVAL to < 1000, results in removing 1.4% of our data\n"
     ]
    }
   ],
   "source": [
    "cap = 1000\n",
    "for col in ['ENTRIES_PER_INTERVAL','EXITS_PER_INTERVAL']:\n",
    "    df_above_cap = df[df[col] > cap]\n",
    "    print('capping {} to < {}, results in removing {:.1%} of our data'.format(\n",
    "            col, cap, perc_of_total_data(df_above_cap, df)))"
   ]
  },
  {
   "cell_type": "markdown",
   "metadata": {},
   "source": [
    "### Now that we've justified removing outliers, let's cap the per_interval columns"
   ]
  },
  {
   "cell_type": "code",
   "execution_count": 20,
   "metadata": {
    "collapsed": false
   },
   "outputs": [],
   "source": [
    "for col in ['ENTRIES_PER_INTERVAL', 'EXITS_PER_INTERVAL']:\n",
    "    df.ix[df[col] > cap, col] = np.nan"
   ]
  },
  {
   "cell_type": "markdown",
   "metadata": {},
   "source": [
    "### Check for negative per_interval values and if they exists, simply change them to NaN's"
   ]
  },
  {
   "cell_type": "code",
   "execution_count": 21,
   "metadata": {
    "collapsed": false
   },
   "outputs": [
    {
     "name": "stdout",
     "output_type": "stream",
     "text": [
      "number of rows below zero: 22 and 17\n"
     ]
    }
   ],
   "source": [
    "print('number of rows below zero:', \n",
    "      df[df.ENTRIES_PER_INTERVAL < 0].shape[0], \n",
    "      'and', \n",
    "      df[df.EXITS_PER_INTERVAL < 0].shape[0])"
   ]
  },
  {
   "cell_type": "code",
   "execution_count": 22,
   "metadata": {
    "collapsed": false
   },
   "outputs": [],
   "source": [
    "for col in ['ENTRIES_PER_INTERVAL', 'EXITS_PER_INTERVAL']:\n",
    "    df.ix[df[col] < 0, col] = np.nan"
   ]
  },
  {
   "cell_type": "markdown",
   "metadata": {},
   "source": [
    "### Create a column for busyness: entries + exits"
   ]
  },
  {
   "cell_type": "code",
   "execution_count": 23,
   "metadata": {
    "collapsed": false
   },
   "outputs": [],
   "source": [
    "# this is now very easy given we have <ENTRIES/EXITS>_PER_INTERVAL\n",
    "df['BUSYNESS_PER_INTERVAL'] = df.ENTRIES_PER_INTERVAL + df.EXITS_PER_INTERVAL"
   ]
  },
  {
   "cell_type": "markdown",
   "metadata": {},
   "source": [
    "### Add granular date information which will come in handy for modeling and analysis"
   ]
  },
  {
   "cell_type": "code",
   "execution_count": 24,
   "metadata": {
    "collapsed": false
   },
   "outputs": [],
   "source": [
    "# add any date information that might be important for modeling\n",
    "# do now so we don't have to redo everytime we tweak our model\n",
    "df['MINUTE'] = df['DATETIME'].dt.minute\n",
    "df['HOUR'] = df['DATETIME'].dt.hour\n",
    "df['MONTH'] = df['DATETIME'].dt.month\n",
    "df['YEAR'] = df['DATETIME'].dt.year\n",
    "df['DAYOFWEEK'] = df['DATETIME'].dt.dayofweek\n",
    "df['DAYOFYEAR'] = df['DATETIME'].dt.dayofyear\n",
    "df['WEEKOFYEAR'] = df['DATETIME'].dt.weekofyear"
   ]
  },
  {
   "cell_type": "markdown",
   "metadata": {},
   "source": [
    "### Save single, large, augmented dataframe"
   ]
  },
  {
   "cell_type": "code",
   "execution_count": 25,
   "metadata": {
    "collapsed": false
   },
   "outputs": [],
   "source": [
    "save_df(df, 'turnstile', 'augmented')"
   ]
  },
  {
   "cell_type": "code",
   "execution_count": 29,
   "metadata": {
    "collapsed": false
   },
   "outputs": [
    {
     "name": "stdout",
     "output_type": "stream",
     "text": [
      "12G\taugmented\r\n"
     ]
    }
   ],
   "source": [
    "# check size of pickled augmented dataframe\n",
    "!du -sh augmented"
   ]
  },
  {
   "cell_type": "markdown",
   "metadata": {},
   "source": [
    "# Data analysis"
   ]
  },
  {
   "cell_type": "code",
   "execution_count": 8,
   "metadata": {
    "collapsed": false
   },
   "outputs": [],
   "source": [
    "from datetime import datetime, timedelta\n",
    "\n",
    "df = pd.read_pickle('augmented/turnstile')"
   ]
  },
  {
   "cell_type": "markdown",
   "metadata": {},
   "source": [
    "### 1. What is the total number of entries & exits across the subway system for August 1, 2013?"
   ]
  },
  {
   "cell_type": "code",
   "execution_count": 7,
   "metadata": {
    "collapsed": false
   },
   "outputs": [
    {
     "name": "stdout",
     "output_type": "stream",
     "text": [
      "Total traffic numbers for August 1st, 2013\n",
      "Entries 4,731,028.0\n",
      "Exits   3,706,783.0\n"
     ]
    }
   ],
   "source": [
    "from datetime import datetime\n",
    "\n",
    "# grab data that lies within the day and sort by datetime\n",
    "range_augfirst = (df.DATETIME >= datetime(2013, 8, 1)) & \\\n",
    "                 (df.DATETIME <  datetime(2013, 8, 2))\n",
    "df_augfirst = df[range_augfirst]\n",
    "print(\"Total traffic numbers for August 1st, 2013\")\n",
    "print(\"Entries {:,}\".format(df_augfirst.ENTRIES_PER_INTERVAL.sum()))\n",
    "print(\"Exits   {:,}\".format(df_augfirst.EXITS_PER_INTERVAL.sum()))"
   ]
  },
  {
   "cell_type": "markdown",
   "metadata": {},
   "source": [
    "### 2. Let's define the busy-ness as sum of entry & exit count. What station was the busiest on August 1, 2013? What turnstile was the busiest on that date?"
   ]
  },
  {
   "cell_type": "code",
   "execution_count": 8,
   "metadata": {
    "collapsed": false
   },
   "outputs": [
    {
     "name": "stdout",
     "output_type": "stream",
     "text": [
      "The busiest station was 34 ST-PENN STA and saw traffic of 230,767.0\n",
      "The busiest turnstile was R221-R170-01-03-02 at 14 ST-UNION SQ and saw traffic of 6,823.0\n"
     ]
    }
   ],
   "source": [
    "df_augfirst_sum_on_station = df_augfirst.groupby('STATION').sum()\n",
    "print(\"The busiest station was {} and saw traffic of {:,}\".format(\n",
    "        df_augfirst_sum_on_station.BUSYNESS_PER_INTERVAL.idxmax(),\n",
    "        df_augfirst_sum_on_station.BUSYNESS_PER_INTERVAL.max()))\n",
    "df_augfirst_sum_on_turnstile = df_augfirst.groupby('TURNSTILE').sum()\n",
    "busiest_turnstile = df_augfirst_sum_on_turnstile.BUSYNESS_PER_INTERVAL.idxmax()\n",
    "busiest_turnstile_station = df_augfirst[df_augfirst.TURNSTILE==busiest_turnstile].STATION.iloc[0]\n",
    "print(\"The busiest turnstile was {} at {} and saw traffic of {:,}\".format(\n",
    "        busiest_turnstile,\n",
    "        busiest_turnstile_station,\n",
    "        df_augfirst_sum_on_turnstile.BUSYNESS_PER_INTERVAL.max()))"
   ]
  },
  {
   "cell_type": "markdown",
   "metadata": {},
   "source": [
    "### 3. What were the busiest and least-busy stations in the system over all of July 2013?"
   ]
  },
  {
   "cell_type": "code",
   "execution_count": 9,
   "metadata": {
    "collapsed": false
   },
   "outputs": [
    {
     "name": "stdout",
     "output_type": "stream",
     "text": [
      "The busiest station was 34 ST-PENN STA and saw traffic of 6,496,841.0\n",
      "The least-busy station was AQUEDUCT TRACK and saw traffic of 268.0\n"
     ]
    }
   ],
   "source": [
    "# get data within July and sum on station groups\n",
    "range_july = (df.DATETIME >= datetime(2013, 7, 1)) & \\\n",
    "             (df.DATETIME <  datetime(2013, 8, 1))\n",
    "df_july = df[range_july]\n",
    "df_july_sum_by_station = df_july.groupby('STATION').sum()\n",
    "print(\"The busiest station was {} and saw traffic of {:,}\".format(\n",
    "        df_july_sum_by_station.BUSYNESS_PER_INTERVAL.idxmax(),\n",
    "        df_july_sum_by_station.BUSYNESS_PER_INTERVAL.max()))\n",
    "print(\"The least-busy station was {} and saw traffic of {:,}\".format(\n",
    "        df_july_sum_by_station.BUSYNESS_PER_INTERVAL.idxmin(),\n",
    "        df_july_sum_by_station.BUSYNESS_PER_INTERVAL.min()))"
   ]
  },
  {
   "cell_type": "markdown",
   "metadata": {},
   "source": [
    "### 4. Which station had the highest average number of entries between midnight & 4am on Fridays in July 2013?"
   ]
  },
  {
   "cell_type": "code",
   "execution_count": 10,
   "metadata": {
    "collapsed": false
   },
   "outputs": [
    {
     "name": "stdout",
     "output_type": "stream",
     "text": [
      "Station W 4 ST-WASH SQ with average traffic 556.144927536\n"
     ]
    }
   ],
   "source": [
    "fridays = (df.DAYOFWEEK == 4)\n",
    "# because hour==0 means the count for the previous 4-hr interval, we'll save HOUSE >0 and <=4\n",
    "midnight_to_four_am = (df.HOUR > 0) & (df.HOUR <= 4)\n",
    "df_late_night = df[range_july & fridays & midnight_to_four_am]\n",
    "df_late_night_station_avgs = df_late_night.groupby('STATION').mean()\n",
    "print(\"Station {} with average traffic {:,}\".format(\n",
    "    df_late_night_station_avgs.BUSYNESS_PER_INTERVAL.idxmax(),\n",
    "    df_late_night_station_avgs.BUSYNESS_PER_INTERVAL.max()));"
   ]
  },
  {
   "cell_type": "markdown",
   "metadata": {},
   "source": [
    "### 5. What stations have seen the most usage growth/decline in the last year?"
   ]
  },
  {
   "cell_type": "code",
   "execution_count": 11,
   "metadata": {
    "collapsed": false
   },
   "outputs": [],
   "source": [
    "# grab \"last year\" which is 2015\n",
    "range_year = (df.DATETIME >= datetime(2015, 1, 1)) & \\\n",
    "             (df.DATETIME <  datetime(2016, 1, 1))\n",
    "df_lastyr = df[range_year]"
   ]
  },
  {
   "cell_type": "markdown",
   "metadata": {},
   "source": [
    "### We are going to calculate percentage growth on a weekly basis, which should help smooth daily outliers"
   ]
  },
  {
   "cell_type": "code",
   "execution_count": 12,
   "metadata": {
    "collapsed": false
   },
   "outputs": [],
   "source": [
    "# sum the columns on a station and weekly basis\n",
    "df_lastyr_by_wk = df_lastyr.groupby(['STATION','WEEKOFYEAR']).sum().reset_index()\n",
    "\n",
    "# to prevent infinity% change (aka divide by 0), we're going to make all 0.0 BUSYNESS_PER_INTERVAL values 1.0.\n",
    "# this will have a negligible effect while still showing large percentage growth when the day prior is 0\n",
    "df_lastyr_by_wk.ix[df_lastyr_by_wk.BUSYNESS_PER_INTERVAL==0, 'BUSYNESS_PER_INTERVAL'] = 1.0\n",
    "\n",
    "# finally calculate the percent change in busyness from week to week\n",
    "df_lastyr_by_wk['BUSYNESS_PERC_CHANGE'] = df_lastyr_by_wk.groupby('STATION').pct_change().BUSYNESS_PER_INTERVAL"
   ]
  },
  {
   "cell_type": "markdown",
   "metadata": {},
   "source": [
    "### Grab the moving average to further smooth the busyness percent change"
   ]
  },
  {
   "cell_type": "code",
   "execution_count": 13,
   "metadata": {
    "collapsed": false
   },
   "outputs": [],
   "source": [
    "# 3 week window for moving average\n",
    "rolling_mean = lambda ser: ser.rolling(window=4, center=True).mean()\n",
    "df_lastyr_by_wk['BUSYNESS_CHANGE_MOVING_AVG'] = df_lastyr_by_wk.groupby('STATION')['BUSYNESS_PERC_CHANGE'].apply(rolling_mean)"
   ]
  },
  {
   "cell_type": "markdown",
   "metadata": {},
   "source": [
    "### Find the stations in terms of the mean of the moving percentage change"
   ]
  },
  {
   "cell_type": "code",
   "execution_count": 53,
   "metadata": {
    "collapsed": false,
    "scrolled": false
   },
   "outputs": [],
   "source": [
    "df_busyness_avgs_sorted = df_lastyr_by_wk.groupby('STATION').mean().sort_values('BUSYNESS_CHANGE_MOVING_AVG')"
   ]
  },
  {
   "cell_type": "markdown",
   "metadata": {},
   "source": [
    "### 10 Highest Growth Stations in 2015"
   ]
  },
  {
   "cell_type": "code",
   "execution_count": 54,
   "metadata": {
    "collapsed": false
   },
   "outputs": [
    {
     "data": {
      "text/html": [
       "<div>\n",
       "<table border=\"1\" class=\"dataframe\">\n",
       "  <thead>\n",
       "    <tr style=\"text-align: right;\">\n",
       "      <th></th>\n",
       "      <th>BUSYNESS_CHANGE_MOVING_AVG</th>\n",
       "      <th>BUSYNESS_PERC_CHANGE</th>\n",
       "    </tr>\n",
       "    <tr>\n",
       "      <th>STATION</th>\n",
       "      <th></th>\n",
       "      <th></th>\n",
       "    </tr>\n",
       "  </thead>\n",
       "  <tbody>\n",
       "    <tr>\n",
       "      <th>34 ST-HUDSON YD</th>\n",
       "      <td>727.118383</td>\n",
       "      <td>630.043025</td>\n",
       "    </tr>\n",
       "    <tr>\n",
       "      <th>ORCHARD BEACH</th>\n",
       "      <td>4.687183</td>\n",
       "      <td>5.328780</td>\n",
       "    </tr>\n",
       "    <tr>\n",
       "      <th>BUHRE AVE</th>\n",
       "      <td>3.848287</td>\n",
       "      <td>11.182154</td>\n",
       "    </tr>\n",
       "    <tr>\n",
       "      <th>ZEREGA AVE</th>\n",
       "      <td>1.083464</td>\n",
       "      <td>2.134389</td>\n",
       "    </tr>\n",
       "    <tr>\n",
       "      <th>OXFORD-104 ST</th>\n",
       "      <td>0.116312</td>\n",
       "      <td>0.131526</td>\n",
       "    </tr>\n",
       "    <tr>\n",
       "      <th>WINTHROP ST</th>\n",
       "      <td>0.105695</td>\n",
       "      <td>0.144322</td>\n",
       "    </tr>\n",
       "    <tr>\n",
       "      <th>BOYD-88 ST</th>\n",
       "      <td>0.093629</td>\n",
       "      <td>0.106030</td>\n",
       "    </tr>\n",
       "    <tr>\n",
       "      <th>METS-WILLETS PT</th>\n",
       "      <td>0.092127</td>\n",
       "      <td>0.081699</td>\n",
       "    </tr>\n",
       "    <tr>\n",
       "      <th>71 ST</th>\n",
       "      <td>0.083569</td>\n",
       "      <td>0.092029</td>\n",
       "    </tr>\n",
       "    <tr>\n",
       "      <th>ATLANTIC AVE</th>\n",
       "      <td>0.079169</td>\n",
       "      <td>0.096574</td>\n",
       "    </tr>\n",
       "  </tbody>\n",
       "</table>\n",
       "</div>"
      ],
      "text/plain": [
       "                 BUSYNESS_CHANGE_MOVING_AVG  BUSYNESS_PERC_CHANGE\n",
       "STATION                                                          \n",
       "34 ST-HUDSON YD                  727.118383            630.043025\n",
       "ORCHARD BEACH                      4.687183              5.328780\n",
       "BUHRE AVE                          3.848287             11.182154\n",
       "ZEREGA AVE                         1.083464              2.134389\n",
       "OXFORD-104 ST                      0.116312              0.131526\n",
       "WINTHROP ST                        0.105695              0.144322\n",
       "BOYD-88 ST                         0.093629              0.106030\n",
       "METS-WILLETS PT                    0.092127              0.081699\n",
       "71 ST                              0.083569              0.092029\n",
       "ATLANTIC AVE                       0.079169              0.096574"
      ]
     },
     "execution_count": 54,
     "metadata": {},
     "output_type": "execute_result"
    }
   ],
   "source": [
    "df_busyness_avgs_sorted.tail(10).loc[:,['BUSYNESS_CHANGE_MOVING_AVG','BUSYNESS_PERC_CHANGE']].iloc[::-1]"
   ]
  },
  {
   "cell_type": "markdown",
   "metadata": {},
   "source": [
    "### Clearly something extreme is happening with 34th Street Hudson Yards. \n",
    "### That station opened recently after massive delays and, after closer inspection, I can only wonder why it was alternating between 0 and 1000s in the BUSYNESS_PER_INTERVAL column.\n",
    "### So I christen the winner to be Orchard Beach with both the highest mean % change and highest mean of the moving-avg of the weekly % change"
   ]
  },
  {
   "cell_type": "markdown",
   "metadata": {},
   "source": [
    "## 10 Lowest Growth Stations in 2015"
   ]
  },
  {
   "cell_type": "code",
   "execution_count": 52,
   "metadata": {
    "collapsed": false
   },
   "outputs": [
    {
     "data": {
      "text/html": [
       "<div>\n",
       "<table border=\"1\" class=\"dataframe\">\n",
       "  <thead>\n",
       "    <tr style=\"text-align: right;\">\n",
       "      <th></th>\n",
       "      <th>BUSYNESS_CHANGE_MOVING_AVG</th>\n",
       "      <th>BUSYNESS_PERC_CHANGE</th>\n",
       "    </tr>\n",
       "    <tr>\n",
       "      <th>STATION</th>\n",
       "      <th></th>\n",
       "      <th></th>\n",
       "    </tr>\n",
       "  </thead>\n",
       "  <tbody>\n",
       "    <tr>\n",
       "      <th>AVENUE X</th>\n",
       "      <td>-0.006548</td>\n",
       "      <td>0.024540</td>\n",
       "    </tr>\n",
       "    <tr>\n",
       "      <th>ROCKAWAY AVE</th>\n",
       "      <td>-0.003494</td>\n",
       "      <td>0.010027</td>\n",
       "    </tr>\n",
       "    <tr>\n",
       "      <th>57 ST-7 AVE</th>\n",
       "      <td>-0.001180</td>\n",
       "      <td>0.007146</td>\n",
       "    </tr>\n",
       "    <tr>\n",
       "      <th>14 ST-UNION SQ</th>\n",
       "      <td>0.000123</td>\n",
       "      <td>0.003215</td>\n",
       "    </tr>\n",
       "    <tr>\n",
       "      <th>LEXINGTON AVE</th>\n",
       "      <td>0.001248</td>\n",
       "      <td>0.007664</td>\n",
       "    </tr>\n",
       "    <tr>\n",
       "      <th>MIDDLETOWN ROAD</th>\n",
       "      <td>0.001712</td>\n",
       "      <td>0.022728</td>\n",
       "    </tr>\n",
       "    <tr>\n",
       "      <th>42 ST-GRD CNTRL</th>\n",
       "      <td>0.002132</td>\n",
       "      <td>0.010717</td>\n",
       "    </tr>\n",
       "    <tr>\n",
       "      <th>42 ST-PORT AUTH</th>\n",
       "      <td>0.002365</td>\n",
       "      <td>0.006173</td>\n",
       "    </tr>\n",
       "    <tr>\n",
       "      <th>SUTPHIN BLVD</th>\n",
       "      <td>0.002613</td>\n",
       "      <td>0.004482</td>\n",
       "    </tr>\n",
       "    <tr>\n",
       "      <th>77 ST</th>\n",
       "      <td>0.002826</td>\n",
       "      <td>0.009953</td>\n",
       "    </tr>\n",
       "  </tbody>\n",
       "</table>\n",
       "</div>"
      ],
      "text/plain": [
       "                 BUSYNESS_CHANGE_MOVING_AVG  BUSYNESS_PERC_CHANGE\n",
       "STATION                                                          \n",
       "AVENUE X                          -0.006548              0.024540\n",
       "ROCKAWAY AVE                      -0.003494              0.010027\n",
       "57 ST-7 AVE                       -0.001180              0.007146\n",
       "14 ST-UNION SQ                     0.000123              0.003215\n",
       "LEXINGTON AVE                      0.001248              0.007664\n",
       "MIDDLETOWN ROAD                    0.001712              0.022728\n",
       "42 ST-GRD CNTRL                    0.002132              0.010717\n",
       "42 ST-PORT AUTH                    0.002365              0.006173\n",
       "SUTPHIN BLVD                       0.002613              0.004482\n",
       "77 ST                              0.002826              0.009953"
      ]
     },
     "execution_count": 52,
     "metadata": {},
     "output_type": "execute_result"
    }
   ],
   "source": [
    "df_busyness_avgs_sorted.head(10).loc[:,['BUSYNESS_CHANGE_MOVING_AVG','BUSYNESS_PERC_CHANGE']]"
   ]
  },
  {
   "cell_type": "markdown",
   "metadata": {},
   "source": [
    "### Avenue X wins with a negative moving-avg percentage growth"
   ]
  },
  {
   "cell_type": "markdown",
   "metadata": {},
   "source": [
    "### 6. What dates are the least busy? Could you identify days on which stations were not operating at full capacity or closed entirely?"
   ]
  },
  {
   "cell_type": "code",
   "execution_count": 68,
   "metadata": {
    "collapsed": false
   },
   "outputs": [
    {
     "data": {
      "text/plain": [
       "YEAR    DAYOFYEAR\n",
       "2012.0  304.0          13821.0\n",
       "        305.0          15991.0\n",
       "2011.0  240.0          19360.0\n",
       "2012.0  303.0          23058.0\n",
       "        306.0         370374.0\n",
       "        307.0         558891.0\n",
       "2014.0  331.0        1399273.0\n",
       "        327.0        1722219.0\n",
       "2013.0  265.0        1810534.0\n",
       "2014.0  332.0        2011032.0\n",
       "Name: BUSYNESS_PER_INTERVAL, dtype: float64"
      ]
     },
     "execution_count": 68,
     "metadata": {},
     "output_type": "execute_result"
    }
   ],
   "source": [
    "df_daily_traffic = df.groupby(['YEAR','DAYOFYEAR']).sum().sort_values('BUSYNESS_PER_INTERVAL')\n",
    "df_daily_traffic.head(10).loc[:,'BUSYNESS_PER_INTERVAL']"
   ]
  },
  {
   "cell_type": "markdown",
   "metadata": {},
   "source": [
    "### The numbers look extremely low but rows 1, 2, 4, 5, and 6 all correspond to Hurricane Sandy in 2012, while row 3 corresponds to Hurricane Irene in Aug, 2013."
   ]
  },
  {
   "cell_type": "markdown",
   "metadata": {},
   "source": [
    "### Get daily totals of busyness and find stations that were not running. Given the distributions are not normal and rather exponential, we we won't subtract the standard deviation from the mean to find outliers but rather take a simple approach and find stations below a reasonable threshold."
   ]
  },
  {
   "cell_type": "code",
   "execution_count": 23,
   "metadata": {
    "collapsed": true
   },
   "outputs": [
    {
     "data": {
      "text/plain": [
       "(1654, 11)"
      ]
     },
     "execution_count": 23,
     "metadata": {},
     "output_type": "execute_result"
    }
   ],
   "source": [
    "df_sum = df.groupby(['STATION','DAYOFYEAR','YEAR']).sum()"
   ]
  },
  {
   "cell_type": "code",
   "execution_count": 30,
   "metadata": {
    "collapsed": false
   },
   "outputs": [
    {
     "data": {
      "text/plain": [
       "STATION          DAYOFYEAR  YEAR  \n",
       "1 AVE            123.0      2015.0    37.0\n",
       "                 156.0      2011.0    49.0\n",
       "                 240.0      2011.0    37.0\n",
       "                 283.0      2010.0    38.0\n",
       "                 303.0      2012.0    39.0\n",
       "                 305.0      2012.0     3.0\n",
       "                 306.0      2012.0     0.0\n",
       "                 307.0      2012.0    17.0\n",
       "103 ST           303.0      2012.0    11.0\n",
       "                 304.0      2012.0    26.0\n",
       "                 305.0      2012.0    22.0\n",
       "103 ST-CORONA    240.0      2011.0    16.0\n",
       "                 303.0      2012.0    34.0\n",
       "                 304.0      2012.0    35.0\n",
       "                 305.0      2012.0    13.0\n",
       "                 306.0      2012.0    26.0\n",
       "104 ST           76.0       2013.0    16.0\n",
       "                 83.0       2013.0    10.0\n",
       "                 86.0       2011.0     9.0\n",
       "                 90.0       2013.0    20.0\n",
       "                 93.0       2011.0    20.0\n",
       "                 97.0       2013.0    29.0\n",
       "                 100.0      2011.0     7.0\n",
       "                 108.0      2010.0     2.0\n",
       "                 111.0      2013.0     5.0\n",
       "                 121.0      2011.0     2.0\n",
       "                 122.0      2010.0     1.0\n",
       "                 128.0      2011.0     4.0\n",
       "                 129.0      2010.0    31.0\n",
       "                 141.0      2012.0     2.0\n",
       "                                      ... \n",
       "WORLD TRADE CTR  245.0      2013.0    23.0\n",
       "                 269.0      2010.0     8.0\n",
       "                 275.0      2011.0     2.0\n",
       "                 282.0      2011.0     3.0\n",
       "                 289.0      2011.0     1.0\n",
       "                 303.0      2011.0     0.0\n",
       "                            2012.0     0.0\n",
       "                 308.0      2012.0     8.0\n",
       "                 309.0      2012.0     1.0\n",
       "                 310.0      2011.0     1.0\n",
       "YORK ST          240.0      2011.0    25.0\n",
       "                 303.0      2012.0     3.0\n",
       "                 304.0      2012.0     4.0\n",
       "                 306.0      2012.0     7.0\n",
       "                 307.0      2012.0     1.0\n",
       "                 308.0      2012.0     4.0\n",
       "ZEREGA AVE       109.0      2015.0    29.0\n",
       "                 110.0      2015.0     1.0\n",
       "                 111.0      2015.0    17.0\n",
       "                 112.0      2015.0    23.0\n",
       "                 113.0      2015.0    44.0\n",
       "                 115.0      2015.0    43.0\n",
       "                 240.0      2011.0    19.0\n",
       "                 262.0      2010.0    32.0\n",
       "                 269.0      2010.0    22.0\n",
       "                 303.0      2012.0     0.0\n",
       "                 304.0      2012.0     0.0\n",
       "                 305.0      2012.0     5.0\n",
       "                 306.0      2012.0     8.0\n",
       "                 307.0      2012.0     3.0\n",
       "Name: BUSYNESS_PER_INTERVAL, dtype: float64"
      ]
     },
     "execution_count": 30,
     "metadata": {},
     "output_type": "execute_result"
    }
   ],
   "source": [
    "df_sum[df_sum.BUSYNESS_PER_INTERVAL<=50.0].BUSYNESS_PER_INTERVAL"
   ]
  },
  {
   "cell_type": "markdown",
   "metadata": {},
   "source": [
    "# Model Turnstile Exit Traffic for a Given Unit and 4-Hour Time Interval"
   ]
  },
  {
   "cell_type": "code",
   "execution_count": 9,
   "metadata": {
    "collapsed": false
   },
   "outputs": [
    {
     "ename": "KeyboardInterrupt",
     "evalue": "",
     "output_type": "error",
     "traceback": [
      "\u001b[1;31m---------------------------------------------------------------------------\u001b[0m",
      "\u001b[1;31mKeyboardInterrupt\u001b[0m                         Traceback (most recent call last)",
      "\u001b[1;32m<ipython-input-9-f21807fd5073>\u001b[0m in \u001b[0;36m<module>\u001b[1;34m()\u001b[0m\n\u001b[0;32m      4\u001b[0m \u001b[1;33m\u001b[0m\u001b[0m\n\u001b[0;32m      5\u001b[0m \u001b[1;31m# read in reformatted, cleaned, augmented dataset\u001b[0m\u001b[1;33m\u001b[0m\u001b[1;33m\u001b[0m\u001b[0m\n\u001b[1;32m----> 6\u001b[1;33m \u001b[0mdf_clean\u001b[0m \u001b[1;33m=\u001b[0m \u001b[0mpd\u001b[0m\u001b[1;33m.\u001b[0m\u001b[0mread_pickle\u001b[0m\u001b[1;33m(\u001b[0m\u001b[1;34m'augmented/turnstile'\u001b[0m\u001b[1;33m)\u001b[0m\u001b[1;33m\u001b[0m\u001b[0m\n\u001b[0m\u001b[0;32m      7\u001b[0m \u001b[1;33m\u001b[0m\u001b[0m\n\u001b[0;32m      8\u001b[0m \u001b[1;31m# our model is going to predict exit traffic based on each single hour.\u001b[0m\u001b[1;33m\u001b[0m\u001b[1;33m\u001b[0m\u001b[0m\n",
      "\u001b[1;32m/usr/local/lib/python2.7/dist-packages/pandas/io/pickle.pyc\u001b[0m in \u001b[0;36mread_pickle\u001b[1;34m(path)\u001b[0m\n\u001b[0;32m     58\u001b[0m \u001b[1;33m\u001b[0m\u001b[0m\n\u001b[0;32m     59\u001b[0m     \u001b[1;32mtry\u001b[0m\u001b[1;33m:\u001b[0m\u001b[1;33m\u001b[0m\u001b[0m\n\u001b[1;32m---> 60\u001b[1;33m         \u001b[1;32mreturn\u001b[0m \u001b[0mtry_read\u001b[0m\u001b[1;33m(\u001b[0m\u001b[0mpath\u001b[0m\u001b[1;33m)\u001b[0m\u001b[1;33m\u001b[0m\u001b[0m\n\u001b[0m\u001b[0;32m     61\u001b[0m     \u001b[1;32mexcept\u001b[0m\u001b[1;33m:\u001b[0m\u001b[1;33m\u001b[0m\u001b[0m\n\u001b[0;32m     62\u001b[0m         \u001b[1;32mif\u001b[0m \u001b[0mPY3\u001b[0m\u001b[1;33m:\u001b[0m\u001b[1;33m\u001b[0m\u001b[0m\n",
      "\u001b[1;32m/usr/local/lib/python2.7/dist-packages/pandas/io/pickle.pyc\u001b[0m in \u001b[0;36mtry_read\u001b[1;34m(path, encoding)\u001b[0m\n\u001b[0;32m     45\u001b[0m         \u001b[1;32mtry\u001b[0m\u001b[1;33m:\u001b[0m\u001b[1;33m\u001b[0m\u001b[0m\n\u001b[0;32m     46\u001b[0m             \u001b[1;32mwith\u001b[0m \u001b[0mopen\u001b[0m\u001b[1;33m(\u001b[0m\u001b[0mpath\u001b[0m\u001b[1;33m,\u001b[0m \u001b[1;34m'rb'\u001b[0m\u001b[1;33m)\u001b[0m \u001b[1;32mas\u001b[0m \u001b[0mfh\u001b[0m\u001b[1;33m:\u001b[0m\u001b[1;33m\u001b[0m\u001b[0m\n\u001b[1;32m---> 47\u001b[1;33m                 \u001b[1;32mreturn\u001b[0m \u001b[0mpkl\u001b[0m\u001b[1;33m.\u001b[0m\u001b[0mload\u001b[0m\u001b[1;33m(\u001b[0m\u001b[0mfh\u001b[0m\u001b[1;33m)\u001b[0m\u001b[1;33m\u001b[0m\u001b[0m\n\u001b[0m\u001b[0;32m     48\u001b[0m         \u001b[1;32mexcept\u001b[0m \u001b[0mException\u001b[0m\u001b[1;33m:\u001b[0m\u001b[1;33m\u001b[0m\u001b[0m\n\u001b[0;32m     49\u001b[0m             \u001b[1;31m# reg/patched pickle\u001b[0m\u001b[1;33m\u001b[0m\u001b[1;33m\u001b[0m\u001b[0m\n",
      "\u001b[1;31mKeyboardInterrupt\u001b[0m: "
     ]
    }
   ],
   "source": [
    "from sklearn import preprocessing, grid_search\n",
    "from sklearn.cross_validation import KFold\n",
    "from sklearn.linear_model import SGDRegressor\n",
    "\n",
    "# read in reformatted, cleaned, augmented dataset\n",
    "df_clean = pd.read_pickle('augmented/turnstile')\n",
    "\n",
    "# our model is going to predict exit traffic based on each single hour.\n",
    "# this will allow us to be more fine grained and robust.\n",
    "# to find a four-hour interval we will run the model for 4 times and sum the \n",
    "\n",
    "# note: unfortunately UNIT's are not unique to STATION's thus can't use STATION's as features.\n",
    "#       also, since we are using the regular audit times, MINUTE will always be 0 making useless as a feature.\n",
    "#       last, UNIT's will be added as a matrix of one-hot-encoded vectors.\n",
    "features = ['HOUR','MONTH','YEAR','DAYOFYEAR','DAYOFWEEK','WEEKOFYEAR']\n",
    "target = 'EXITS_PER_INTERVAL'\n",
    "\n",
    "### clean the data before modeling.\n",
    "# we don't want to take any risks and we have enough data\n",
    "# to remove potentially harmful / irregular datapoints.\n",
    "\n",
    "# train only on the regular 4-hr auditing time periods remove irregular audits\n",
    "regular_times = df_clean.TIME.isin([\n",
    "    '00:00:00', '04:00:00', '08:00:00', '12:00:00', '16:00:00', '20:00:00'])\n",
    "reg_audit = (df_clean.DESC == 'REGULAR')\n",
    "df_clean = df_clean[regular_times & reg_audit]\n",
    "\n",
    "# reduce to features and target. UNIT will be dropped in a moment\n",
    "df_clean = df_clean.loc[:,['UNIT']+features+[target]]\n",
    "# remove rows with NaN values\n",
    "df_clean = df_clean.dropna()\n",
    "# drop duplicate rows\n",
    "df_clean = df_clean.drop_duplicates()\n",
    "\n",
    "# because of memory limits :( we're going to sample the dataset\n",
    "sample = int(df_clean.shape[0] / 10.0)\n",
    "df_clean = df_clean.sample(n=sample)\n",
    "\n",
    "# pull out target before scaling features\n",
    "y = df_clean.loc[:,target].as_matrix()\n",
    "del df_clean[target]\n",
    "\n",
    "# one-hot-encode UNIT since it's a categorical variables\n",
    "np_one_hot_encoded = pd.get_dummies(df_clean.UNIT).as_matrix()\n",
    "del df_clean['UNIT']\n",
    "\n",
    "# normalize current set of features to have zero mean and unit variance\n",
    "np_scaled = preprocessing.scale(df_clean)\n",
    "del df_clean\n",
    "\n",
    "# get final input X of scaled scalars and one-hot-encoded categories\n",
    "X = np.concatenate((np_scaled, np_one_hot_encoded), axis=1)\n",
    "#print('% data retained after cleaning', perc_of_total_data(X,df))"
   ]
  },
  {
   "cell_type": "code",
   "execution_count": 8,
   "metadata": {
    "collapsed": false
   },
   "outputs": [
    {
     "name": "stdout",
     "output_type": "stream",
     "text": [
      "grid search in parallel. num cores used: 2\n"
     ]
    },
    {
     "ename": "OSError",
     "evalue": "[Errno 12] Cannot allocate memory",
     "output_type": "error",
     "traceback": [
      "\u001b[1;31m---------------------------------------------------------------------------\u001b[0m",
      "\u001b[1;31mOSError\u001b[0m                                   Traceback (most recent call last)",
      "\u001b[1;32m<ipython-input-8-1d8d6dc8a0e2>\u001b[0m in \u001b[0;36m<module>\u001b[1;34m()\u001b[0m\n\u001b[0;32m     20\u001b[0m \u001b[0mstart\u001b[0m \u001b[1;33m=\u001b[0m \u001b[0mtime\u001b[0m\u001b[1;33m.\u001b[0m\u001b[0mtime\u001b[0m\u001b[1;33m(\u001b[0m\u001b[1;33m)\u001b[0m\u001b[1;33m\u001b[0m\u001b[0m\n\u001b[0;32m     21\u001b[0m \u001b[0mclf\u001b[0m \u001b[1;33m=\u001b[0m \u001b[0mgrid_search\u001b[0m\u001b[1;33m.\u001b[0m\u001b[0mGridSearchCV\u001b[0m\u001b[1;33m(\u001b[0m\u001b[0msgdreg\u001b[0m\u001b[1;33m,\u001b[0m \u001b[0mparameters\u001b[0m\u001b[1;33m,\u001b[0m \u001b[0mn_jobs\u001b[0m\u001b[1;33m=\u001b[0m\u001b[0mnum_jobs\u001b[0m\u001b[1;33m,\u001b[0m \u001b[0mcv\u001b[0m\u001b[1;33m=\u001b[0m\u001b[1;36m10\u001b[0m\u001b[1;33m)\u001b[0m\u001b[1;33m\u001b[0m\u001b[0m\n\u001b[1;32m---> 22\u001b[1;33m \u001b[0mclf\u001b[0m\u001b[1;33m.\u001b[0m\u001b[0mfit\u001b[0m\u001b[1;33m(\u001b[0m\u001b[0mX\u001b[0m\u001b[1;33m,\u001b[0m \u001b[0my\u001b[0m\u001b[1;33m)\u001b[0m\u001b[1;33m\u001b[0m\u001b[0m\n\u001b[0m\u001b[0;32m     23\u001b[0m \u001b[1;32mprint\u001b[0m\u001b[1;33m(\u001b[0m\u001b[0mtime\u001b[0m\u001b[1;33m.\u001b[0m\u001b[0mtime\u001b[0m\u001b[1;33m(\u001b[0m\u001b[1;33m)\u001b[0m \u001b[1;33m-\u001b[0m \u001b[0mstart\u001b[0m\u001b[1;33m)\u001b[0m\u001b[1;33m\u001b[0m\u001b[0m\n\u001b[0;32m     24\u001b[0m \u001b[1;33m\u001b[0m\u001b[0m\n",
      "\u001b[1;32m/usr/local/lib/python2.7/dist-packages/sklearn/grid_search.pyc\u001b[0m in \u001b[0;36mfit\u001b[1;34m(self, X, y)\u001b[0m\n\u001b[0;32m    802\u001b[0m \u001b[1;33m\u001b[0m\u001b[0m\n\u001b[0;32m    803\u001b[0m         \"\"\"\n\u001b[1;32m--> 804\u001b[1;33m         \u001b[1;32mreturn\u001b[0m \u001b[0mself\u001b[0m\u001b[1;33m.\u001b[0m\u001b[0m_fit\u001b[0m\u001b[1;33m(\u001b[0m\u001b[0mX\u001b[0m\u001b[1;33m,\u001b[0m \u001b[0my\u001b[0m\u001b[1;33m,\u001b[0m \u001b[0mParameterGrid\u001b[0m\u001b[1;33m(\u001b[0m\u001b[0mself\u001b[0m\u001b[1;33m.\u001b[0m\u001b[0mparam_grid\u001b[0m\u001b[1;33m)\u001b[0m\u001b[1;33m)\u001b[0m\u001b[1;33m\u001b[0m\u001b[0m\n\u001b[0m\u001b[0;32m    805\u001b[0m \u001b[1;33m\u001b[0m\u001b[0m\n\u001b[0;32m    806\u001b[0m \u001b[1;33m\u001b[0m\u001b[0m\n",
      "\u001b[1;32m/usr/local/lib/python2.7/dist-packages/sklearn/grid_search.pyc\u001b[0m in \u001b[0;36m_fit\u001b[1;34m(self, X, y, parameter_iterable)\u001b[0m\n\u001b[0;32m    551\u001b[0m                                     \u001b[0mself\u001b[0m\u001b[1;33m.\u001b[0m\u001b[0mfit_params\u001b[0m\u001b[1;33m,\u001b[0m \u001b[0mreturn_parameters\u001b[0m\u001b[1;33m=\u001b[0m\u001b[0mTrue\u001b[0m\u001b[1;33m,\u001b[0m\u001b[1;33m\u001b[0m\u001b[0m\n\u001b[0;32m    552\u001b[0m                                     error_score=self.error_score)\n\u001b[1;32m--> 553\u001b[1;33m                 \u001b[1;32mfor\u001b[0m \u001b[0mparameters\u001b[0m \u001b[1;32min\u001b[0m \u001b[0mparameter_iterable\u001b[0m\u001b[1;33m\u001b[0m\u001b[0m\n\u001b[0m\u001b[0;32m    554\u001b[0m                 for train, test in cv)\n\u001b[0;32m    555\u001b[0m \u001b[1;33m\u001b[0m\u001b[0m\n",
      "\u001b[1;32m/usr/local/lib/python2.7/dist-packages/sklearn/externals/joblib/parallel.pyc\u001b[0m in \u001b[0;36m__call__\u001b[1;34m(self, iterable)\u001b[0m\n\u001b[0;32m    764\u001b[0m         \u001b[0mself\u001b[0m\u001b[1;33m.\u001b[0m\u001b[0m_aborting\u001b[0m \u001b[1;33m=\u001b[0m \u001b[0mFalse\u001b[0m\u001b[1;33m\u001b[0m\u001b[0m\n\u001b[0;32m    765\u001b[0m         \u001b[1;32mif\u001b[0m \u001b[1;32mnot\u001b[0m \u001b[0mself\u001b[0m\u001b[1;33m.\u001b[0m\u001b[0m_managed_pool\u001b[0m\u001b[1;33m:\u001b[0m\u001b[1;33m\u001b[0m\u001b[0m\n\u001b[1;32m--> 766\u001b[1;33m             \u001b[0mn_jobs\u001b[0m \u001b[1;33m=\u001b[0m \u001b[0mself\u001b[0m\u001b[1;33m.\u001b[0m\u001b[0m_initialize_pool\u001b[0m\u001b[1;33m(\u001b[0m\u001b[1;33m)\u001b[0m\u001b[1;33m\u001b[0m\u001b[0m\n\u001b[0m\u001b[0;32m    767\u001b[0m         \u001b[1;32melse\u001b[0m\u001b[1;33m:\u001b[0m\u001b[1;33m\u001b[0m\u001b[0m\n\u001b[0;32m    768\u001b[0m             \u001b[0mn_jobs\u001b[0m \u001b[1;33m=\u001b[0m \u001b[0mself\u001b[0m\u001b[1;33m.\u001b[0m\u001b[0m_effective_n_jobs\u001b[0m\u001b[1;33m(\u001b[0m\u001b[1;33m)\u001b[0m\u001b[1;33m\u001b[0m\u001b[0m\n",
      "\u001b[1;32m/usr/local/lib/python2.7/dist-packages/sklearn/externals/joblib/parallel.pyc\u001b[0m in \u001b[0;36m_initialize_pool\u001b[1;34m(self)\u001b[0m\n\u001b[0;32m    535\u001b[0m                     \u001b[1;31m# Use Python 3.4+ multiprocessing context isolation\u001b[0m\u001b[1;33m\u001b[0m\u001b[1;33m\u001b[0m\u001b[0m\n\u001b[0;32m    536\u001b[0m                     \u001b[0mpoolargs\u001b[0m\u001b[1;33m[\u001b[0m\u001b[1;34m'context'\u001b[0m\u001b[1;33m]\u001b[0m \u001b[1;33m=\u001b[0m \u001b[0mself\u001b[0m\u001b[1;33m.\u001b[0m\u001b[0m_mp_context\u001b[0m\u001b[1;33m\u001b[0m\u001b[0m\n\u001b[1;32m--> 537\u001b[1;33m                 \u001b[0mself\u001b[0m\u001b[1;33m.\u001b[0m\u001b[0m_pool\u001b[0m \u001b[1;33m=\u001b[0m \u001b[0mMemmapingPool\u001b[0m\u001b[1;33m(\u001b[0m\u001b[0mn_jobs\u001b[0m\u001b[1;33m,\u001b[0m \u001b[1;33m**\u001b[0m\u001b[0mpoolargs\u001b[0m\u001b[1;33m)\u001b[0m\u001b[1;33m\u001b[0m\u001b[0m\n\u001b[0m\u001b[0;32m    538\u001b[0m \u001b[1;33m\u001b[0m\u001b[0m\n\u001b[0;32m    539\u001b[0m                 \u001b[1;31m# We are using multiprocessing, we also want to capture\u001b[0m\u001b[1;33m\u001b[0m\u001b[1;33m\u001b[0m\u001b[0m\n",
      "\u001b[1;32m/usr/local/lib/python2.7/dist-packages/sklearn/externals/joblib/pool.pyc\u001b[0m in \u001b[0;36m__init__\u001b[1;34m(self, processes, temp_folder, max_nbytes, mmap_mode, forward_reducers, backward_reducers, verbose, context_id, prewarm, **kwargs)\u001b[0m\n\u001b[0;32m    578\u001b[0m             backward_reducers=backward_reducers)\n\u001b[0;32m    579\u001b[0m         \u001b[0mpoolargs\u001b[0m\u001b[1;33m.\u001b[0m\u001b[0mupdate\u001b[0m\u001b[1;33m(\u001b[0m\u001b[0mkwargs\u001b[0m\u001b[1;33m)\u001b[0m\u001b[1;33m\u001b[0m\u001b[0m\n\u001b[1;32m--> 580\u001b[1;33m         \u001b[0msuper\u001b[0m\u001b[1;33m(\u001b[0m\u001b[0mMemmapingPool\u001b[0m\u001b[1;33m,\u001b[0m \u001b[0mself\u001b[0m\u001b[1;33m)\u001b[0m\u001b[1;33m.\u001b[0m\u001b[0m__init__\u001b[0m\u001b[1;33m(\u001b[0m\u001b[1;33m**\u001b[0m\u001b[0mpoolargs\u001b[0m\u001b[1;33m)\u001b[0m\u001b[1;33m\u001b[0m\u001b[0m\n\u001b[0m\u001b[0;32m    581\u001b[0m \u001b[1;33m\u001b[0m\u001b[0m\n\u001b[0;32m    582\u001b[0m     \u001b[1;32mdef\u001b[0m \u001b[0mterminate\u001b[0m\u001b[1;33m(\u001b[0m\u001b[0mself\u001b[0m\u001b[1;33m)\u001b[0m\u001b[1;33m:\u001b[0m\u001b[1;33m\u001b[0m\u001b[0m\n",
      "\u001b[1;32m/usr/local/lib/python2.7/dist-packages/sklearn/externals/joblib/pool.pyc\u001b[0m in \u001b[0;36m__init__\u001b[1;34m(self, processes, forward_reducers, backward_reducers, **kwargs)\u001b[0m\n\u001b[0;32m    416\u001b[0m         \u001b[0mpoolargs\u001b[0m \u001b[1;33m=\u001b[0m \u001b[0mdict\u001b[0m\u001b[1;33m(\u001b[0m\u001b[0mprocesses\u001b[0m\u001b[1;33m=\u001b[0m\u001b[0mprocesses\u001b[0m\u001b[1;33m)\u001b[0m\u001b[1;33m\u001b[0m\u001b[0m\n\u001b[0;32m    417\u001b[0m         \u001b[0mpoolargs\u001b[0m\u001b[1;33m.\u001b[0m\u001b[0mupdate\u001b[0m\u001b[1;33m(\u001b[0m\u001b[0mkwargs\u001b[0m\u001b[1;33m)\u001b[0m\u001b[1;33m\u001b[0m\u001b[0m\n\u001b[1;32m--> 418\u001b[1;33m         \u001b[0msuper\u001b[0m\u001b[1;33m(\u001b[0m\u001b[0mPicklingPool\u001b[0m\u001b[1;33m,\u001b[0m \u001b[0mself\u001b[0m\u001b[1;33m)\u001b[0m\u001b[1;33m.\u001b[0m\u001b[0m__init__\u001b[0m\u001b[1;33m(\u001b[0m\u001b[1;33m**\u001b[0m\u001b[0mpoolargs\u001b[0m\u001b[1;33m)\u001b[0m\u001b[1;33m\u001b[0m\u001b[0m\n\u001b[0m\u001b[0;32m    419\u001b[0m \u001b[1;33m\u001b[0m\u001b[0m\n\u001b[0;32m    420\u001b[0m     \u001b[1;32mdef\u001b[0m \u001b[0m_setup_queues\u001b[0m\u001b[1;33m(\u001b[0m\u001b[0mself\u001b[0m\u001b[1;33m)\u001b[0m\u001b[1;33m:\u001b[0m\u001b[1;33m\u001b[0m\u001b[0m\n",
      "\u001b[1;32m/usr/lib/python2.7/multiprocessing/pool.pyc\u001b[0m in \u001b[0;36m__init__\u001b[1;34m(self, processes, initializer, initargs, maxtasksperchild)\u001b[0m\n\u001b[0;32m    157\u001b[0m         \u001b[0mself\u001b[0m\u001b[1;33m.\u001b[0m\u001b[0m_processes\u001b[0m \u001b[1;33m=\u001b[0m \u001b[0mprocesses\u001b[0m\u001b[1;33m\u001b[0m\u001b[0m\n\u001b[0;32m    158\u001b[0m         \u001b[0mself\u001b[0m\u001b[1;33m.\u001b[0m\u001b[0m_pool\u001b[0m \u001b[1;33m=\u001b[0m \u001b[1;33m[\u001b[0m\u001b[1;33m]\u001b[0m\u001b[1;33m\u001b[0m\u001b[0m\n\u001b[1;32m--> 159\u001b[1;33m         \u001b[0mself\u001b[0m\u001b[1;33m.\u001b[0m\u001b[0m_repopulate_pool\u001b[0m\u001b[1;33m(\u001b[0m\u001b[1;33m)\u001b[0m\u001b[1;33m\u001b[0m\u001b[0m\n\u001b[0m\u001b[0;32m    160\u001b[0m \u001b[1;33m\u001b[0m\u001b[0m\n\u001b[0;32m    161\u001b[0m         self._worker_handler = threading.Thread(\n",
      "\u001b[1;32m/usr/lib/python2.7/multiprocessing/pool.pyc\u001b[0m in \u001b[0;36m_repopulate_pool\u001b[1;34m(self)\u001b[0m\n\u001b[0;32m    221\u001b[0m             \u001b[0mw\u001b[0m\u001b[1;33m.\u001b[0m\u001b[0mname\u001b[0m \u001b[1;33m=\u001b[0m \u001b[0mw\u001b[0m\u001b[1;33m.\u001b[0m\u001b[0mname\u001b[0m\u001b[1;33m.\u001b[0m\u001b[0mreplace\u001b[0m\u001b[1;33m(\u001b[0m\u001b[1;34m'Process'\u001b[0m\u001b[1;33m,\u001b[0m \u001b[1;34m'PoolWorker'\u001b[0m\u001b[1;33m)\u001b[0m\u001b[1;33m\u001b[0m\u001b[0m\n\u001b[0;32m    222\u001b[0m             \u001b[0mw\u001b[0m\u001b[1;33m.\u001b[0m\u001b[0mdaemon\u001b[0m \u001b[1;33m=\u001b[0m \u001b[0mTrue\u001b[0m\u001b[1;33m\u001b[0m\u001b[0m\n\u001b[1;32m--> 223\u001b[1;33m             \u001b[0mw\u001b[0m\u001b[1;33m.\u001b[0m\u001b[0mstart\u001b[0m\u001b[1;33m(\u001b[0m\u001b[1;33m)\u001b[0m\u001b[1;33m\u001b[0m\u001b[0m\n\u001b[0m\u001b[0;32m    224\u001b[0m             \u001b[0mdebug\u001b[0m\u001b[1;33m(\u001b[0m\u001b[1;34m'added worker'\u001b[0m\u001b[1;33m)\u001b[0m\u001b[1;33m\u001b[0m\u001b[0m\n\u001b[0;32m    225\u001b[0m \u001b[1;33m\u001b[0m\u001b[0m\n",
      "\u001b[1;32m/usr/lib/python2.7/multiprocessing/process.pyc\u001b[0m in \u001b[0;36mstart\u001b[1;34m(self)\u001b[0m\n\u001b[0;32m    128\u001b[0m         \u001b[1;32melse\u001b[0m\u001b[1;33m:\u001b[0m\u001b[1;33m\u001b[0m\u001b[0m\n\u001b[0;32m    129\u001b[0m             \u001b[1;32mfrom\u001b[0m \u001b[1;33m.\u001b[0m\u001b[0mforking\u001b[0m \u001b[1;32mimport\u001b[0m \u001b[0mPopen\u001b[0m\u001b[1;33m\u001b[0m\u001b[0m\n\u001b[1;32m--> 130\u001b[1;33m         \u001b[0mself\u001b[0m\u001b[1;33m.\u001b[0m\u001b[0m_popen\u001b[0m \u001b[1;33m=\u001b[0m \u001b[0mPopen\u001b[0m\u001b[1;33m(\u001b[0m\u001b[0mself\u001b[0m\u001b[1;33m)\u001b[0m\u001b[1;33m\u001b[0m\u001b[0m\n\u001b[0m\u001b[0;32m    131\u001b[0m         \u001b[0m_current_process\u001b[0m\u001b[1;33m.\u001b[0m\u001b[0m_children\u001b[0m\u001b[1;33m.\u001b[0m\u001b[0madd\u001b[0m\u001b[1;33m(\u001b[0m\u001b[0mself\u001b[0m\u001b[1;33m)\u001b[0m\u001b[1;33m\u001b[0m\u001b[0m\n\u001b[0;32m    132\u001b[0m \u001b[1;33m\u001b[0m\u001b[0m\n",
      "\u001b[1;32m/usr/lib/python2.7/multiprocessing/forking.pyc\u001b[0m in \u001b[0;36m__init__\u001b[1;34m(self, process_obj)\u001b[0m\n\u001b[0;32m    119\u001b[0m             \u001b[0mself\u001b[0m\u001b[1;33m.\u001b[0m\u001b[0mreturncode\u001b[0m \u001b[1;33m=\u001b[0m \u001b[0mNone\u001b[0m\u001b[1;33m\u001b[0m\u001b[0m\n\u001b[0;32m    120\u001b[0m \u001b[1;33m\u001b[0m\u001b[0m\n\u001b[1;32m--> 121\u001b[1;33m             \u001b[0mself\u001b[0m\u001b[1;33m.\u001b[0m\u001b[0mpid\u001b[0m \u001b[1;33m=\u001b[0m \u001b[0mos\u001b[0m\u001b[1;33m.\u001b[0m\u001b[0mfork\u001b[0m\u001b[1;33m(\u001b[0m\u001b[1;33m)\u001b[0m\u001b[1;33m\u001b[0m\u001b[0m\n\u001b[0m\u001b[0;32m    122\u001b[0m             \u001b[1;32mif\u001b[0m \u001b[0mself\u001b[0m\u001b[1;33m.\u001b[0m\u001b[0mpid\u001b[0m \u001b[1;33m==\u001b[0m \u001b[1;36m0\u001b[0m\u001b[1;33m:\u001b[0m\u001b[1;33m\u001b[0m\u001b[0m\n\u001b[0;32m    123\u001b[0m                 \u001b[1;32mif\u001b[0m \u001b[1;34m'random'\u001b[0m \u001b[1;32min\u001b[0m \u001b[0msys\u001b[0m\u001b[1;33m.\u001b[0m\u001b[0mmodules\u001b[0m\u001b[1;33m:\u001b[0m\u001b[1;33m\u001b[0m\u001b[0m\n",
      "\u001b[1;31mOSError\u001b[0m: [Errno 12] Cannot allocate memory"
     ]
    }
   ],
   "source": [
    "# setup model. use simple SGD initially\n",
    "# a major advantage of SGD is its efficiency, which is essentially \n",
    "# linear in the number of training examples.\n",
    "sgdreg = SGDRegressor(\n",
    "    n_iter= np.ceil(10.0**6 / X.shape[0]), # sklearn recommended\n",
    ")\n",
    "parameters = {\n",
    "    'alpha': 10.0**-np.arange(1,7), # sklearn recommended\n",
    "    'penalty': ['l2','l1','elasticnet'],\n",
    "}\n",
    "\n",
    "import multiprocessing\n",
    "cores = multiprocessing.cpu_count()\n",
    "\n",
    "# perform grid search in parallel. unfortunately I need *waaay* more memory to do full 32-core parallel\n",
    "num_jobs = cores / 16\n",
    "print('grid search in parallel. num cores used:', num_jobs)\n",
    "\n",
    "import time\n",
    "start = time.time()\n",
    "clf = grid_search.GridSearchCV(sgdreg, parameters, n_jobs=num_jobs, cv=10)\n",
    "clf.fit(X, y)\n",
    "print(time.time() - start)\n",
    "\n",
    "# don't forget to save the model!\n",
    "from sklearn.externals import joblib\n",
    "joblib.dump(clf, 'estimators/sgd_full/clf.pkl')"
   ]
  }
 ],
 "metadata": {
  "kernelspec": {
   "display_name": "Python 2",
   "language": "python",
   "name": "python2"
  },
  "language_info": {
   "codemirror_mode": {
    "name": "ipython",
    "version": 2
   },
   "file_extension": ".py",
   "mimetype": "text/x-python",
   "name": "python",
   "nbconvert_exporter": "python",
   "pygments_lexer": "ipython2",
   "version": "2.7.6"
  }
 },
 "nbformat": 4,
 "nbformat_minor": 0
}
